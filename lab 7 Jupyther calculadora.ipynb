{
  "metadata": {
    "language_info": {
      "codemirror_mode": {
        "name": "python",
        "version": 3
      },
      "file_extension": ".py",
      "mimetype": "text/x-python",
      "name": "python",
      "nbconvert_exporter": "python",
      "pygments_lexer": "ipython3",
      "version": "3.8"
    },
    "kernelspec": {
      "name": "python",
      "display_name": "Pyolite",
      "language": "python"
    }
  },
  "nbformat_minor": 4,
  "nbformat": 4,
  "cells": [
    {
      "cell_type": "raw",
      "source": "Hola, esto es un simple tutorial que muestra como crear una calculadora funcional en python, empecemos.",
      "metadata": {}
    },
    {
      "cell_type": "raw",
      "source": "Esta calculadora va a tener 7 calculos distintos.\nla calculadora debe pedir 3 numeros, los primeros dos van a ser los que se utilizarán en el calculo, y el tercero va a ser el que dirá cual metodo de calculo se utilizarán.",
      "metadata": {}
    },
    {
      "cell_type": "raw",
      "source": "Primero: hay que importar la librería math, ya que se requiere para algunas funciones de la calculadora.",
      "metadata": {}
    },
    {
      "cell_type": "code",
      "source": "import math",
      "metadata": {
        "trusted": true
      },
      "execution_count": 14,
      "outputs": []
    },
    {
      "cell_type": "raw",
      "source": "Luego tenemos que pedir los dos numeros que se van a ocupar en las operaciones.",
      "metadata": {}
    },
    {
      "cell_type": "code",
      "source": "import math\n\nnum1=(input(\"ingrese primer número: \"))\nnum2=(input(\"ingrese segundo número: \"))",
      "metadata": {
        "trusted": true
      },
      "execution_count": 15,
      "outputs": []
    },
    {
      "cell_type": "raw",
      "source": "Una vez que se han preguntado los dos números hay que hacer que el programa diga cuales son sus opciones y preguntar cual se va a utilizar.",
      "metadata": {}
    },
    {
      "cell_type": "code",
      "source": "import math\n\nnum1=(input(\"ingrese primer número: \"))\nnum2=(input(\"ingrese segundo número: \"))\n\nprint(\"\\n opciones desponibles \\n \\n 1 suma \\n 2 resta \\n 3 multiplicación \\n 4 divición \\n 5 potencias \\n 6 raiz cuadrada (usará solo el primer número) \\n logaritmos (solo usará el primer número) \\n\")\n\nopcion=(input(\"ingrese opción de calculo \"))",
      "metadata": {
        "trusted": true
      },
      "execution_count": 16,
      "outputs": [
        {
          "name": "stdout",
          "text": "\n opciones desponibles \n \n 1 suma \n 2 resta \n 3 multiplicación \n 4 divición \n 5 potencias \n 6 raiz cuadrada (usará solo el primer número) \n logaritmos (solo usará el primer número) \n\n",
          "output_type": "stream"
        }
      ]
    },
    {
      "cell_type": "raw",
      "source": "Una vez que ya tenemos la opción y los dos números se debe programar la calculadora en si.\nPara lograr esto utilizamos if y elif para ver cual opcion fue elegida, y un else si no coincide con ninguna.",
      "metadata": {}
    },
    {
      "cell_type": "code",
      "source": "import math\n\nnum1=float(input(\"ingrese primer número: \"))\nnum2=float(input(\"ingrese segundo número: \"))\n\nprint(\"\\n opciones desponibles \\n \\n 1 suma \\n 2 resta \\n 3 multiplicación \\n 4 divición \\n 5 potencias \\n 6 raiz cuadrada (usará solo el primer número) \\n 7 logaritmos (solo usará el primer número) \\n\")\n\nopcion =float(input(\"ingrese opción de calculo \"))\n\nif opcion == 1.0:\n    print(\"la usma es: \", num1+num2)\n    \nelif opcion == 2.0:\n    print(\"la resta es: \", num1-num2)\n    \nelif opcion == 3.0:\n    print(\"el producto es: \", num1*num2)\n    \nelif opcion == 4.0:\n    print(\"el dividendo es: \", num1/num2)\n    \nelif opcion == 5.0:\n    print(\"la potencia es: \", math.pow(num1,num2))\n    \nelif opcion == 6.0:\n    print(\"la raiz cuadrada es: \", math.sqrt(num1))\n    \nelif opcion == 7.0:\n    print(\" el logaritmo es: \", math.log10(num1))\n    \nelse:\n    print(\"ERROR: la opción ingresada no es valida\")\n",
      "metadata": {
        "trusted": true
      },
      "execution_count": 17,
      "outputs": [
        {
          "name": "stdout",
          "text": "\n opciones desponibles \n \n 1 suma \n 2 resta \n 3 multiplicación \n 4 divición \n 5 potencias \n 6 raiz cuadrada (usará solo el primer número) \n logaritmos (solo usará el primer número) \n\nERROR: la opción ingresada no es valida\n",
          "output_type": "stream"
        },
        {
          "output_type": "stream",
          "name": "stdin",
          "text": "ingrese primer número:  1\ningrese segundo número:  2\ningrese opción de calculo  3\n"
        }
      ]
    },
    {
      "cell_type": "raw",
      "source": "Con esto, el programa pregunta los dos numeros, la opcion elegida, y devuelve el resultado.",
      "metadata": {}
    },
    {
      "cell_type": "raw",
      "source": "Felicitaciones, has programado una calculadora utilizando python.",
      "metadata": {}
    }
  ]
}